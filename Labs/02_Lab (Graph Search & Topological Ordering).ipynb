{
 "cells": [
  {
   "cell_type": "markdown",
   "metadata": {},
   "source": [
    "# Graph Search: Breadth First"
   ]
  },
  {
   "cell_type": "code",
   "execution_count": 1,
   "metadata": {
    "collapsed": false,
    "deletable": true,
    "editable": true,
    "scrolled": true
   },
   "outputs": [
    {
     "data": {
      "text/plain": [
       "5-element Array{Array{Int64,1},1}:\n",
       " [2,3]  \n",
       " [3,4]  \n",
       " Int64[]\n",
       " [5,3]  \n",
       " [3,4]  "
      ]
     },
     "execution_count": 1,
     "metadata": {},
     "output_type": "execute_result"
    }
   ],
   "source": [
    "adjL=[[2,3],[3,4],Int[],[5,3],[3,4]]"
   ]
  },
  {
   "cell_type": "code",
   "execution_count": 2,
   "metadata": {
    "collapsed": false,
    "deletable": true,
    "editable": true
   },
   "outputs": [
    {
     "data": {
      "text/plain": [
       "find_admissable (generic function with 1 method)"
      ]
     },
     "execution_count": 2,
     "metadata": {},
     "output_type": "execute_result"
    }
   ],
   "source": [
    "function find_admissable(i,marked,AdjL)\n",
    "    for node in AdjL[i]\n",
    "        if !marked[node]\n",
    "            return true, node\n",
    "        end\n",
    "    end\n",
    "    false,0\n",
    "end"
   ]
  },
  {
   "cell_type": "code",
   "execution_count": 3,
   "metadata": {
    "collapsed": false,
    "deletable": true,
    "editable": true
   },
   "outputs": [
    {
     "data": {
      "text/plain": [
       "breadthFirstSearch (generic function with 1 method)"
      ]
     },
     "execution_count": 3,
     "metadata": {},
     "output_type": "execute_result"
    }
   ],
   "source": [
    "function breadthFirstSearch(start_node,AdjL)\n",
    "    # Initialization\n",
    "    n=length(AdjL) # O(1)\n",
    "    pred=zeros(Int,n) # O(n)\n",
    "    order=zeros(Int,n)  # O(n)\n",
    "    marked=zeros(Bool,n)  # O(n)\n",
    "    next=1  # O(1)\n",
    "    order[start_node]=next  # O(1)\n",
    "    marked[start_node]=true  # O(1)\n",
    "    LIST=[start_node]  # O(1)... \n",
    "    # Main search part\n",
    "    while !isempty(LIST)\n",
    "        i=LIST[1]\n",
    "        found,j=find_admissable(i,marked,AdjL)\n",
    "        if found\n",
    "            marked[j]=true\n",
    "            pred[j]=i\n",
    "            next+=1\n",
    "            order[j]=next\n",
    "            push!(LIST,j) # O(1) most of the time...possibly optimization by having the LIST of size n\n",
    "        else\n",
    "            shift!(LIST) \n",
    "        end\n",
    "    end\n",
    "    # Returning \n",
    "    pred,order,marked\n",
    "end"
   ]
  },
  {
   "cell_type": "code",
   "execution_count": 4,
   "metadata": {
    "collapsed": false,
    "deletable": true,
    "editable": true
   },
   "outputs": [
    {
     "data": {
      "text/plain": [
       "([0,1,1,2,4],[1,2,3,4,5],Bool[true,true,true,true,true])"
      ]
     },
     "execution_count": 4,
     "metadata": {},
     "output_type": "execute_result"
    }
   ],
   "source": [
    "pred, order, marked=breadthFirstSearch(1,adjL)"
   ]
  },
  {
   "cell_type": "markdown",
   "metadata": {
    "deletable": true,
    "editable": true
   },
   "source": [
    "# Graph Search: Depth First"
   ]
  },
  {
   "cell_type": "code",
   "execution_count": 5,
   "metadata": {
    "collapsed": false,
    "deletable": true,
    "editable": true
   },
   "outputs": [
    {
     "data": {
      "text/plain": [
       "depthFirstSearch (generic function with 1 method)"
      ]
     },
     "execution_count": 5,
     "metadata": {},
     "output_type": "execute_result"
    }
   ],
   "source": [
    "function depthFirstSearch(start_node,AdjL)\n",
    "    # Initialization\n",
    "    n=length(AdjL) # O(1)\n",
    "    pred=zeros(Int,n) # O(n)\n",
    "    order=zeros(Int,n)  # O(n)\n",
    "    marked=zeros(Bool,n)  # O(n)\n",
    "    next=1  # O(1)\n",
    "    order[start_node]=next  # O(1)\n",
    "    marked[start_node]=true  # O(1)\n",
    "    LIST=[start_node]  # O(1)... \n",
    "    # Main search part\n",
    "    while !isempty(LIST)\n",
    "        i=LIST[end]\n",
    "        found,j=find_admissable(i,marked,AdjL)\n",
    "        if found\n",
    "            marked[j]=true\n",
    "            pred[j]=i\n",
    "            next+=1\n",
    "            order[j]=next\n",
    "            push!(LIST,j) # O(1) most of the time...possibly optimization by having the LIST of size n\n",
    "        else\n",
    "            pop!(LIST) \n",
    "        end\n",
    "    end\n",
    "    # Returning \n",
    "    pred,order,marked\n",
    "end"
   ]
  },
  {
   "cell_type": "code",
   "execution_count": 6,
   "metadata": {
    "collapsed": false,
    "deletable": true,
    "editable": true
   },
   "outputs": [
    {
     "data": {
      "text/plain": [
       "([0,1,2,2,4],[1,2,3,4,5],Bool[true,true,true,true,true])"
      ]
     },
     "execution_count": 6,
     "metadata": {},
     "output_type": "execute_result"
    }
   ],
   "source": [
    "pred, order, marked=depthFirstSearch(1,adjL)"
   ]
  },
  {
   "cell_type": "markdown",
   "metadata": {
    "deletable": true,
    "editable": true
   },
   "source": [
    "# Graph Search: General Function for Breadth & Depth "
   ]
  },
  {
   "cell_type": "code",
   "execution_count": 7,
   "metadata": {
    "collapsed": false,
    "deletable": true,
    "editable": true
   },
   "outputs": [
    {
     "data": {
      "text/plain": [
       "graph_search (generic function with 2 methods)"
      ]
     },
     "execution_count": 7,
     "metadata": {},
     "output_type": "execute_result"
    }
   ],
   "source": [
    "function graph_search(s,aL,isDepth::Bool=true)\n",
    "    # Initialization\n",
    "    n=length(aL) #number of nodes \n",
    "    pred=zeros(Int,n)\n",
    "    #marked=Int[s]\n",
    "    marked=zeros(Bool,n)\n",
    "    marked[s] = true\n",
    "    List=Int[s]\n",
    "    # Now I can stard doing the actual work \n",
    "    while !isempty(List)\n",
    "        i=isDepth? List[end]:List[1] #This is the current node\n",
    "        j=find_addmissable(aL,marked,i)\n",
    "        if j>0 # We found an addmissable arc \n",
    "            #push!(marked,j)\n",
    "            marked[j] = true\n",
    "            pred[j]=i\n",
    "            push!(List,j)\n",
    "        else\n",
    "            isDepth? pop!(List):shift!(List)\n",
    "        end\n",
    "    end\n",
    "    pred\n",
    "end"
   ]
  },
  {
   "cell_type": "markdown",
   "metadata": {
    "deletable": true,
    "editable": true
   },
   "source": [
    "# Topological Ordering : Algorithm"
   ]
  },
  {
   "cell_type": "code",
   "execution_count": null,
   "metadata": {
    "collapsed": false
   },
   "outputs": [],
   "source": [
    "## all algorithms are available on the yahoo group of the course with examples\n",
    "begin\n",
    "INITIALIZE\n",
    "while LIST not empty do\n",
    "begin\n",
    "\tselect a node i from LIST and delete it;\n",
    "\tnext := next + 1;\n",
    "\torder(i) := next;\n",
    "\tfor all (i,j) in A(i) do\n",
    "\tbegin\n",
    "\t\tindegree(j) := indegree(j) – 1;\n",
    "\t\tif indegree(j) = 0 then LIST := LIST union { j };\n",
    "\tend\n",
    "end\n",
    "if  next < n then the network contains a directed cycle\n",
    "else the network is acyclic and the order is topological\n",
    "end"
   ]
  }
 ],
 "metadata": {
  "kernelspec": {
   "display_name": "Julia 0.5.2",
   "language": "julia",
   "name": "julia-0.5"
  },
  "language_info": {
   "file_extension": ".jl",
   "mimetype": "application/julia",
   "name": "julia",
   "version": "0.5.2"
  }
 },
 "nbformat": 4,
 "nbformat_minor": 0
}

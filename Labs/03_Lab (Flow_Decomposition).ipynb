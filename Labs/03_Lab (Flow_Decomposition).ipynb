{
 "cells": [
  {
   "cell_type": "code",
   "execution_count": null,
   "metadata": {
    "collapsed": true,
    "deletable": true,
    "editable": true
   },
   "outputs": [],
   "source": [
    "type Arc\n",
    "    from::Int \n",
    "    to::Int\n",
    "    flow::Int\n",
    "end"
   ]
  },
  {
   "cell_type": "code",
   "execution_count": null,
   "metadata": {
    "collapsed": false,
    "deletable": true,
    "editable": true
   },
   "outputs": [],
   "source": [
    "adjL=[[Arc(1,2,10),Arc(1,4,15)],\n",
    "    [Arc(2,4,1),Arc(2,3,5)],\n",
    "    [Arc(3,5,1)],\n",
    "    [Arc(4,3,11)],\n",
    "    [Arc(5,4,5)]\n",
    "]"
   ]
  },
  {
   "cell_type": "markdown",
   "metadata": {
    "deletable": true,
    "editable": true
   },
   "source": [
    "# Main Function"
   ]
  },
  {
   "cell_type": "code",
   "execution_count": null,
   "metadata": {
    "collapsed": false,
    "deletable": true,
    "editable": true
   },
   "outputs": [],
   "source": [
    "function flow_decompostion(adjL,b)\n",
    "    # We will look for path first \n",
    "    Paths=Array{Array{Arc}}(0) \n",
    "    Cycles=Array{Array{Arc}}(0)\n",
    "    my_adjL=deepcopy(adjL)\n",
    "    my_b=deepcopy(b)\n",
    "    while true\n",
    "        s=findfirst(x->x>0,my_b) #our supply node \n",
    "        s==0 && break # Exit if no more supply nodes are found\n",
    "        simple_path=find_s_d_path(s,my_adjL)\n",
    "        delta=calc_p_delta(path,my_b,my_adjL)\n",
    "        agument!(delta,my_adjL,my_b)\n",
    "        Path=arc_path(path,delta)\n",
    "        push!(Paths,Path)\n",
    "    end\n",
    "    # Do similar stuff for cycles \n",
    "end\n",
    "\n"
   ]
  },
  {
   "cell_type": "markdown",
   "metadata": {},
   "source": [
    "# Q1: Calculate BI\n",
    "Complete this function to calculate and return \"bi\"\n"
   ]
  },
  {
   "cell_type": "code",
   "execution_count": null,
   "metadata": {
    "collapsed": false,
    "deletable": true,
    "editable": true
   },
   "outputs": [],
   "source": [
    "function calculate_bi(adjL)\n",
    "    n=length(adjL)\n",
    "    inflow=zeros(Int,n)\n",
    "    outflow=zeros(Int,n)\n",
    "    \n",
    "    \n",
    "end\n"
   ]
  },
  {
   "cell_type": "markdown",
   "metadata": {
    "deletable": true,
    "editable": true
   },
   "source": [
    "# Q2: find admissable node\n",
    "How to change the function with our new adjL ??"
   ]
  },
  {
   "cell_type": "code",
   "execution_count": null,
   "metadata": {
    "collapsed": false,
    "deletable": true,
    "editable": true
   },
   "outputs": [],
   "source": [
    "\n",
    "function find_admissable(i,marked,AdjL)\n",
    "    for node in AdjL[i]\n",
    "        if !marked[node]\n",
    "            return true, node\n",
    "        end\n",
    "    end\n",
    "    false,0\n",
    "end"
   ]
  },
  {
   "cell_type": "markdown",
   "metadata": {
    "deletable": true,
    "editable": true
   },
   "source": [
    "# Q3: DFS to get path / cycle\n",
    "What conditions to add in this function to detect a path /cycle ?"
   ]
  },
  {
   "cell_type": "code",
   "execution_count": null,
   "metadata": {
    "collapsed": true
   },
   "outputs": [],
   "source": [
    "function depthFirstSearch(start_node,AdjL)\n",
    "    # Initialization\n",
    "    n=length(AdjL) # O(1)\n",
    "    pred=zeros(Int,n) # O(n)\n",
    "    marked=zeros(Bool,n)  # O(n)\n",
    "    marked[start_node]=true  # O(1)\n",
    "    LIST=[start_node]  # O(1)... \n",
    "    while !isempty(LIST)\n",
    "        i=LIST[end]\n",
    "        found,j=find_admissable(i,marked,AdjL)\n",
    "        if found\n",
    "            marked[j]=true\n",
    "            pred[j]=i\n",
    "            push!(LIST,j) \n",
    "        else\n",
    "            pop!(LIST) \n",
    "        end\n",
    "    end\n",
    "    # Returning \n",
    "    pred,marked\n",
    "end"
   ]
  },
  {
   "cell_type": "markdown",
   "metadata": {
    "deletable": true,
    "editable": true
   },
   "source": [
    "# Q4: Agument the delta of path/cycle\n",
    "Complete this function to agument the delta from both, the adjL and the bi array.. then return the new adjL and bi"
   ]
  },
  {
   "cell_type": "code",
   "execution_count": null,
   "metadata": {
    "collapsed": true,
    "deletable": true,
    "editable": true
   },
   "outputs": [],
   "source": [
    "function agument_capacity(path_or_cycle,adjL,delta,BIs)\n",
    "   \n",
    "   \n",
    "end"
   ]
  },
  {
   "cell_type": "code",
   "execution_count": null,
   "metadata": {
    "collapsed": true,
    "deletable": true,
    "editable": true
   },
   "outputs": [],
   "source": []
  }
 ],
 "metadata": {
  "kernelspec": {
   "display_name": "Julia 0.5.2",
   "language": "julia",
   "name": "julia-0.5"
  },
  "language_info": {
   "file_extension": ".jl",
   "mimetype": "application/julia",
   "name": "julia",
   "version": "0.5.2"
  }
 },
 "nbformat": 4,
 "nbformat_minor": 0
}

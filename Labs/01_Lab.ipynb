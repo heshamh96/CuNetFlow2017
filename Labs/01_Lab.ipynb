{
 "cells": [
  {
   "cell_type": "markdown",
   "metadata": {
    "deletable": true,
    "editable": true
   },
   "source": [
    "## ===> Arc List"
   ]
  },
  {
   "cell_type": "code",
   "execution_count": 2,
   "metadata": {
    "collapsed": false,
    "deletable": true,
    "editable": true
   },
   "outputs": [
    {
     "data": {
      "text/plain": [
       "8-element Array{Tuple{Int64,Int64},1}:\n",
       " (1,2)\n",
       " (2,4)\n",
       " (4,6)\n",
       " (3,2)\n",
       " (2,5)\n",
       " (3,1)\n",
       " (4,5)\n",
       " (6,5)"
      ]
     },
     "execution_count": 2,
     "metadata": {},
     "output_type": "execute_result"
    }
   ],
   "source": [
    "graph_1= [(1,2),(2,4),(4,6),(3,2),(2,5),(3,1),(4,5),(6,5)];"
   ]
  },
  {
   "cell_type": "code",
   "execution_count": 8,
   "metadata": {
    "collapsed": false,
    "deletable": true,
    "editable": true
   },
   "outputs": [
    {
     "name": "stdout",
     "output_type": "stream",
     "text": [
      "(1,2)(2,4)(4,6)(3,2)(2,5)(3,1)(4,5)(6,5)"
     ]
    }
   ],
   "source": [
    "# Loop over arc list\n",
    "for arc in graph_1\n",
    "    print(arc)\n",
    "end"
   ]
  },
  {
   "cell_type": "code",
   "execution_count": 7,
   "metadata": {
    "collapsed": false,
    "deletable": true,
    "editable": true
   },
   "outputs": [
    {
     "data": {
      "text/plain": [
       "6-element Array{Int64,1}:\n",
       " 1\n",
       " 2\n",
       " 4\n",
       " 3\n",
       " 6\n",
       " 5"
      ]
     },
     "execution_count": 7,
     "metadata": {},
     "output_type": "execute_result"
    }
   ],
   "source": [
    "# Get nodes from arc list : STUDENTS\n",
    "unique(vcat([arc[1] for arc in graph_1],[arc[2] for arc in graph_1]))"
   ]
  },
  {
   "cell_type": "code",
   "execution_count": 13,
   "metadata": {
    "collapsed": false,
    "deletable": true,
    "editable": true
   },
   "outputs": [
    {
     "data": {
      "text/plain": [
       "(1,2,3)"
      ]
     },
     "execution_count": 13,
     "metadata": {},
     "output_type": "execute_result"
    }
   ],
   "source": [
    "# Outdegree from arc List\n",
    "function node_degree_arcList(n)\n",
    "    indegree=0\n",
    "    outdegree=0\n",
    "    degree=0\n",
    "    for arc in graph_1\n",
    "        (arc[1]==n) && (outdegree+=1) \n",
    "        (arc[2]==n) && (indegree+=1) \n",
    "        (arc[1]==n || arc[2]==n) && (degree+=1) #STUDENTS\n",
    "    end\n",
    "    indegree,outdegree,degree\n",
    "end\n",
    "\n",
    "# call:\n",
    "node_degree_arcList(4)"
   ]
  },
  {
   "cell_type": "markdown",
   "metadata": {
    "deletable": true,
    "editable": true
   },
   "source": [
    "## ===> Adjacency Matrix"
   ]
  },
  {
   "cell_type": "code",
   "execution_count": 2,
   "metadata": {
    "collapsed": false,
    "deletable": true,
    "editable": true
   },
   "outputs": [
    {
     "data": {
      "text/plain": [
       "6×6 Array{Bool,2}:\n",
       " false   true  false  false  false  false\n",
       " false  false  false   true   true  false\n",
       "  true   true  false  false  false  false\n",
       " false  false  false  false   true   true\n",
       " false  false  false  false  false  false\n",
       " false  false  false  false   true  false"
      ]
     },
     "execution_count": 2,
     "metadata": {},
     "output_type": "execute_result"
    }
   ],
   "source": [
    "function constructAdjMatFromFile(fname)\n",
    "    data=readcsv(fname,Int)\n",
    "    n=maximum(data) \n",
    "    M=zeros(Bool,n,n)\n",
    "    m=size(data,1) # arcs\n",
    "    for arcIndx=1:m\n",
    "        i,j=data[arcIndx,:]\n",
    "        M[i,j]=true\n",
    "    end\n",
    "    M\n",
    "end\n",
    "\n",
    "adjMat= constructAdjMatFromFile(\"Lab_1_data.csv\")\n",
    "\n",
    "\n"
   ]
  },
  {
   "cell_type": "code",
   "execution_count": 3,
   "metadata": {
    "collapsed": false,
    "deletable": true,
    "editable": true
   },
   "outputs": [
    {
     "data": {
      "text/plain": [
       "(1, 2, 3)"
      ]
     },
     "execution_count": 3,
     "metadata": {},
     "output_type": "execute_result"
    }
   ],
   "source": [
    "# Outdegree from Adjacency Matrix\n",
    "function node_degree_adjMat(n,adjMat) # STUDENTS\n",
    "    indegree=sum(adjMat[:,n] )\n",
    "    outdegree=sum(adjMat[n,:])\n",
    "    degree=indegree+outdegree\n",
    "    indegree,outdegree,degree\n",
    "end\n",
    "\n",
    "node_degree_adjMat(4,adjMat)"
   ]
  },
  {
   "cell_type": "markdown",
   "metadata": {
    "deletable": true,
    "editable": true
   },
   "source": [
    "## ===> Adjacency List"
   ]
  },
  {
   "cell_type": "code",
   "execution_count": 7,
   "metadata": {
    "collapsed": false,
    "deletable": true,
    "editable": true
   },
   "outputs": [
    {
     "name": "stderr",
     "output_type": "stream",
     "text": [
      "\u001b[1m\u001b[33mWARNING: \u001b[39m\u001b[22m\u001b[33mArray{T}(::Type{T}, m::Int) is deprecated, use Array{T}(m) instead.\u001b[39m\n",
      "Stacktrace:\n",
      " [1] \u001b[1mdepwarn\u001b[22m\u001b[22m\u001b[1m(\u001b[22m\u001b[22m::String, ::Symbol\u001b[1m)\u001b[22m\u001b[22m at \u001b[1m./deprecated.jl:64\u001b[22m\u001b[22m\n",
      " [2] \u001b[1mArray\u001b[22m\u001b[22m\u001b[1m(\u001b[22m\u001b[22m::Type{Array{Int64,N} where N}, ::Int64\u001b[1m)\u001b[22m\u001b[22m at \u001b[1m./deprecated.jl:51\u001b[22m\u001b[22m\n",
      " [3] \u001b[1mconstructAdjListFromFile\u001b[22m\u001b[22m\u001b[1m(\u001b[22m\u001b[22m::String\u001b[1m)\u001b[22m\u001b[22m at \u001b[1m./In[7]:5\u001b[22m\u001b[22m\n",
      " [4] \u001b[1minclude_string\u001b[22m\u001b[22m\u001b[1m(\u001b[22m\u001b[22m::String, ::String\u001b[1m)\u001b[22m\u001b[22m at \u001b[1m./loading.jl:515\u001b[22m\u001b[22m\n",
      " [5] \u001b[1mexecute_request\u001b[22m\u001b[22m\u001b[1m(\u001b[22m\u001b[22m::ZMQ.Socket, ::IJulia.Msg\u001b[1m)\u001b[22m\u001b[22m at \u001b[1m/home/sahar/.julia/v0.6/IJulia/src/execute_request.jl:160\u001b[22m\u001b[22m\n",
      " [6] \u001b[1meventloop\u001b[22m\u001b[22m\u001b[1m(\u001b[22m\u001b[22m::ZMQ.Socket\u001b[1m)\u001b[22m\u001b[22m at \u001b[1m/home/sahar/.julia/v0.6/IJulia/src/eventloop.jl:8\u001b[22m\u001b[22m\n",
      " [7] \u001b[1m(::IJulia.##11#14)\u001b[22m\u001b[22m\u001b[1m(\u001b[22m\u001b[22m\u001b[1m)\u001b[22m\u001b[22m at \u001b[1m./task.jl:335\u001b[22m\u001b[22m\n",
      "while loading In[7], in expression starting on line 18\n"
     ]
    },
    {
     "data": {
      "text/plain": [
       "6-element Array{Array{Int64,N} where N,1}:\n",
       " [2]    \n",
       " [4, 5] \n",
       " [2, 1] \n",
       " [6, 5] \n",
       " Int64[]\n",
       " [5]    "
      ]
     },
     "execution_count": 7,
     "metadata": {},
     "output_type": "execute_result"
    }
   ],
   "source": [
    "function constructAdjListFromFile(fname)\n",
    "    data=readcsv(fname,Int)\n",
    "    n=maximum(data) \n",
    "    m=size(data,1)\n",
    "  A=Array(Array{Int},n) \n",
    "#     A=Array{Array{Int},n}()\n",
    "    \n",
    "    for i=1:n A[i]=[] end # Initialization of adjacency list\n",
    "\n",
    "    for arcIndx=1:m\n",
    "        i,j=data[arcIndx,:]\n",
    "        push!(A[i],j) \n",
    "    end\n",
    "    A\n",
    "end\n",
    "\n",
    "\n",
    "adjList= constructAdjListFromFile(\"Lab_1_data.csv\")\n"
   ]
  },
  {
   "cell_type": "markdown",
   "metadata": {
    "collapsed": true,
    "deletable": true,
    "editable": true
   },
   "source": [
    "## ===> From Adjlist to Matrix and Vice Versa"
   ]
  },
  {
   "cell_type": "code",
   "execution_count": 98,
   "metadata": {
    "collapsed": false,
    "deletable": true,
    "editable": true
   },
   "outputs": [
    {
     "data": {
      "text/plain": [
       "fromMatrixToList (generic function with 1 method)"
      ]
     },
     "execution_count": 98,
     "metadata": {},
     "output_type": "execute_result"
    }
   ],
   "source": [
    "function fromMatrixToList(Mat)\n",
    "    n=size(Mat,1)\n",
    "    A=Array(Array{Int},n) \n",
    "    for i=1:n A[i]=[] end # Initialization of adjacency list\n",
    "     for i=1:n\n",
    "        j=find(Mat[i,:])\n",
    "        A[i]= j\n",
    "#         for k in j\n",
    "#             push!(A[i],k) \n",
    "#         end\n",
    "    end\n",
    "    \n",
    "    return A\n",
    "end"
   ]
  },
  {
   "cell_type": "code",
   "execution_count": 99,
   "metadata": {
    "collapsed": false,
    "deletable": true,
    "editable": true
   },
   "outputs": [
    {
     "name": "stderr",
     "output_type": "stream",
     "text": [
      "\u001b[1m\u001b[33mWARNING: \u001b[39m\u001b[22m\u001b[33mArray{T}(::Type{T}, m::Int) is deprecated, use Array{T}(m) instead.\u001b[39m\n",
      "Stacktrace:\n",
      " [1] \u001b[1mdepwarn\u001b[22m\u001b[22m\u001b[1m(\u001b[22m\u001b[22m::String, ::Symbol\u001b[1m)\u001b[22m\u001b[22m at \u001b[1m./deprecated.jl:64\u001b[22m\u001b[22m\n",
      " [2] \u001b[1mArray\u001b[22m\u001b[22m\u001b[1m(\u001b[22m\u001b[22m::Type{Array{Int64,N} where N}, ::Int64\u001b[1m)\u001b[22m\u001b[22m at \u001b[1m./deprecated.jl:51\u001b[22m\u001b[22m\n",
      " [3] \u001b[1mfromMatrixToList\u001b[22m\u001b[22m\u001b[1m(\u001b[22m\u001b[22m::Array{Bool,2}\u001b[1m)\u001b[22m\u001b[22m at \u001b[1m./In[98]:3\u001b[22m\u001b[22m\n",
      " [4] \u001b[1minclude_string\u001b[22m\u001b[22m\u001b[1m(\u001b[22m\u001b[22m::String, ::String\u001b[1m)\u001b[22m\u001b[22m at \u001b[1m./loading.jl:515\u001b[22m\u001b[22m\n",
      " [5] \u001b[1mexecute_request\u001b[22m\u001b[22m\u001b[1m(\u001b[22m\u001b[22m::ZMQ.Socket, ::IJulia.Msg\u001b[1m)\u001b[22m\u001b[22m at \u001b[1m/home/sahar/.julia/v0.6/IJulia/src/execute_request.jl:160\u001b[22m\u001b[22m\n",
      " [6] \u001b[1meventloop\u001b[22m\u001b[22m\u001b[1m(\u001b[22m\u001b[22m::ZMQ.Socket\u001b[1m)\u001b[22m\u001b[22m at \u001b[1m/home/sahar/.julia/v0.6/IJulia/src/eventloop.jl:8\u001b[22m\u001b[22m\n",
      " [7] \u001b[1m(::IJulia.##11#14)\u001b[22m\u001b[22m\u001b[1m(\u001b[22m\u001b[22m\u001b[1m)\u001b[22m\u001b[22m at \u001b[1m./task.jl:335\u001b[22m\u001b[22m\n",
      "while loading In[99], in expression starting on line 1\n"
     ]
    },
    {
     "data": {
      "text/plain": [
       "6-element Array{Array{Int64,N} where N,1}:\n",
       " [2]    \n",
       " [4, 5] \n",
       " [1, 2] \n",
       " [5, 6] \n",
       " Int64[]\n",
       " [5]    "
      ]
     },
     "execution_count": 99,
     "metadata": {},
     "output_type": "execute_result"
    }
   ],
   "source": [
    "A = fromMatrixToList(adjMat)\n"
   ]
  },
  {
   "cell_type": "code",
   "execution_count": 69,
   "metadata": {
    "collapsed": false,
    "deletable": true,
    "editable": true
   },
   "outputs": [
    {
     "data": {
      "text/plain": [
       "fromListToMatrix (generic function with 1 method)"
      ]
     },
     "execution_count": 69,
     "metadata": {},
     "output_type": "execute_result"
    }
   ],
   "source": [
    "function fromListToMatrix(A)\n",
    "    n=size(A,1)\n",
    "    Mat=zeros(Bool,n,n)\n",
    "    \n",
    "     for i=1:n\n",
    "        j=A[i]\n",
    "        Mat[i,j]=true \n",
    "    end\n",
    "    \n",
    "    return Mat\n",
    "end"
   ]
  },
  {
   "cell_type": "code",
   "execution_count": 70,
   "metadata": {
    "collapsed": false,
    "deletable": true,
    "editable": true
   },
   "outputs": [
    {
     "data": {
      "text/plain": [
       "6×6 Array{Bool,2}:\n",
       " false   true  false  false  false  false\n",
       " false  false  false   true   true  false\n",
       "  true   true  false  false  false  false\n",
       " false  false  false  false   true   true\n",
       " false  false  false  false  false  false\n",
       " false  false  false  false   true  false"
      ]
     },
     "execution_count": 70,
     "metadata": {},
     "output_type": "execute_result"
    }
   ],
   "source": [
    "M = fromListToMatrix(A)"
   ]
  },
  {
   "cell_type": "markdown",
   "metadata": {
    "deletable": true,
    "editable": true
   },
   "source": [
    "## ===>Implement isConnected on a pred Array"
   ]
  },
  {
   "cell_type": "code",
   "execution_count": 72,
   "metadata": {
    "collapsed": false,
    "deletable": true,
    "editable": true
   },
   "outputs": [
    {
     "data": {
      "text/plain": [
       "isConnected (generic function with 1 method)"
      ]
     },
     "execution_count": 72,
     "metadata": {},
     "output_type": "execute_result"
    }
   ],
   "source": [
    "function isConnected(pred,i,j)\n",
    "    (pred[i] == j || pred[j]==i) && true\n",
    "end"
   ]
  },
  {
   "cell_type": "code",
   "execution_count": 74,
   "metadata": {
    "collapsed": false,
    "deletable": true,
    "editable": true
   },
   "outputs": [
    {
     "data": {
      "text/plain": [
       "false"
      ]
     },
     "execution_count": 74,
     "metadata": {},
     "output_type": "execute_result"
    }
   ],
   "source": [
    "pred = [0,1,5,2,4]\n",
    "isConnected(pred,1,4)\n"
   ]
  },
  {
   "cell_type": "markdown",
   "metadata": {
    "deletable": true,
    "editable": true
   },
   "source": [
    "## ===> Check if a graph is a tree (neither directed-in or directed-out, directed-in or directed-out)\n"
   ]
  },
  {
   "cell_type": "code",
   "execution_count": 77,
   "metadata": {
    "collapsed": false,
    "deletable": true,
    "editable": true
   },
   "outputs": [
    {
     "data": {
      "text/plain": [
       "checkTree (generic function with 1 method)"
      ]
     },
     "execution_count": 77,
     "metadata": {},
     "output_type": "execute_result"
    }
   ],
   "source": [
    "function checkTree(Mat)\n",
    "    n = size(Mat,1)\n",
    "    numArcs = sum(Mat)\n",
    "    if numArcs == n-1\n",
    "        return true\n",
    "    else\n",
    "        return false\n",
    "    end\n",
    "end"
   ]
  },
  {
   "cell_type": "code",
   "execution_count": 78,
   "metadata": {
    "collapsed": false,
    "deletable": true,
    "editable": true
   },
   "outputs": [
    {
     "data": {
      "text/plain": [
       "false"
      ]
     },
     "execution_count": 78,
     "metadata": {},
     "output_type": "execute_result"
    }
   ],
   "source": [
    "checkTree(M)"
   ]
  },
  {
   "cell_type": "code",
   "execution_count": 79,
   "metadata": {
    "collapsed": false,
    "deletable": true,
    "editable": true
   },
   "outputs": [
    {
     "data": {
      "text/plain": [
       "checkDirectedOut (generic function with 1 method)"
      ]
     },
     "execution_count": 79,
     "metadata": {},
     "output_type": "execute_result"
    }
   ],
   "source": [
    "function checkDirectedOut(Mat)\n",
    "    n = size(Mat,1)\n",
    "    numArcs = sum(Mat)\n",
    "    if numArcs == n-1\n",
    "        for i =1:n #suppose that we are starting from node 1 so its indegree is already zero\n",
    "            if sum(Mat[:,i] ) >1\n",
    "                return false\n",
    "            else\n",
    "                return true\n",
    "            end\n",
    "        end\n",
    "    else\n",
    "        return false\n",
    "    end\n",
    "end"
   ]
  },
  {
   "cell_type": "code",
   "execution_count": 91,
   "metadata": {
    "collapsed": false,
    "deletable": true,
    "editable": true
   },
   "outputs": [
    {
     "data": {
      "text/plain": [
       "4×4 Array{Int64,2}:\n",
       " 0  1  1  0\n",
       " 0  0  0  1\n",
       " 0  0  0  0\n",
       " 0  0  0  0"
      ]
     },
     "execution_count": 91,
     "metadata": {},
     "output_type": "execute_result"
    }
   ],
   "source": [
    "M2 = [0 1 1 0\n",
    "0 0 0 1\n",
    "0 0 0 0\n",
    "0 0 0 0]#directed-out tree"
   ]
  },
  {
   "cell_type": "code",
   "execution_count": 92,
   "metadata": {
    "collapsed": false,
    "deletable": true,
    "editable": true
   },
   "outputs": [
    {
     "data": {
      "text/plain": [
       "true"
      ]
     },
     "execution_count": 92,
     "metadata": {},
     "output_type": "execute_result"
    }
   ],
   "source": [
    "checkDirectedOut(M2) #directed-out tree"
   ]
  },
  {
   "cell_type": "code",
   "execution_count": 93,
   "metadata": {
    "collapsed": false,
    "deletable": true,
    "editable": true
   },
   "outputs": [
    {
     "data": {
      "text/plain": [
       "false"
      ]
     },
     "execution_count": 93,
     "metadata": {},
     "output_type": "execute_result"
    }
   ],
   "source": [
    "checkDirectedOut(M) #not a tree"
   ]
  },
  {
   "cell_type": "code",
   "execution_count": 94,
   "metadata": {
    "collapsed": false,
    "deletable": true,
    "editable": true
   },
   "outputs": [
    {
     "data": {
      "text/plain": [
       "checkDirectedIn (generic function with 1 method)"
      ]
     },
     "execution_count": 94,
     "metadata": {},
     "output_type": "execute_result"
    }
   ],
   "source": [
    "function checkDirectedIn(Mat)\n",
    "    n = size(Mat,1)\n",
    "    numArcs = sum(Mat)\n",
    "    if numArcs == n-1\n",
    "        for i =1:n \n",
    "            if sum(Mat[i,:] ) >1\n",
    "                return false\n",
    "            else\n",
    "                return true\n",
    "            end\n",
    "        end\n",
    "    else\n",
    "        return false\n",
    "    end\n",
    "end"
   ]
  },
  {
   "cell_type": "code",
   "execution_count": 95,
   "metadata": {
    "collapsed": false,
    "deletable": true,
    "editable": true
   },
   "outputs": [
    {
     "data": {
      "text/plain": [
       "4×4 Array{Int64,2}:\n",
       " 0  0  0  0\n",
       " 1  0  0  0\n",
       " 1  0  0  0\n",
       " 0  1  0  0"
      ]
     },
     "execution_count": 95,
     "metadata": {},
     "output_type": "execute_result"
    }
   ],
   "source": [
    "M3= [0 0 0 0\n",
    "    1 0 0 0\n",
    "    1 0 0 0\n",
    "    0 1 0 0] #directed-in tree "
   ]
  },
  {
   "cell_type": "code",
   "execution_count": 96,
   "metadata": {
    "collapsed": false,
    "deletable": true,
    "editable": true
   },
   "outputs": [
    {
     "data": {
      "text/plain": [
       "true"
      ]
     },
     "execution_count": 96,
     "metadata": {},
     "output_type": "execute_result"
    }
   ],
   "source": [
    "checkDirectedIn(M3)#directed-in tree "
   ]
  },
  {
   "cell_type": "code",
   "execution_count": 97,
   "metadata": {
    "collapsed": false,
    "deletable": true,
    "editable": true
   },
   "outputs": [
    {
     "data": {
      "text/plain": [
       "false"
      ]
     },
     "execution_count": 97,
     "metadata": {},
     "output_type": "execute_result"
    }
   ],
   "source": [
    "checkDirectedIn(M2)#directed-out tree "
   ]
  }
 ],
 "metadata": {
  "kernelspec": {
   "display_name": "Julia 0.5.2",
   "language": "julia",
   "name": "julia-0.5"
  },
  "language_info": {
   "file_extension": ".jl",
   "mimetype": "application/julia",
   "name": "julia",
   "version": "0.5.2"
  }
 },
 "nbformat": 4,
 "nbformat_minor": 1
}

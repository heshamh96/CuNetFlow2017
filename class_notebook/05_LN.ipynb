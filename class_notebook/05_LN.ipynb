{
 "cells": [
  {
   "cell_type": "markdown",
   "metadata": {},
   "source": [
    "# Finding connected components \n",
    "In the classroom we covered this topic and we conceptually explored ways that is can be realized for both the simple and maximal component finding. In this notebook we will simply write a network generator is used to generate the graph that will be part of the classroom challenge. "
   ]
  },
  {
   "cell_type": "code",
   "execution_count": 1,
   "metadata": {
    "collapsed": false
   },
   "outputs": [],
   "source": [
    "srand(555); # Alway good to fix the seed"
   ]
  },
  {
   "cell_type": "code",
   "execution_count": 2,
   "metadata": {
    "collapsed": false
   },
   "outputs": [
    {
     "data": {
      "text/plain": [
       "randGraphGen (generic function with 3 methods)"
      ]
     },
     "execution_count": 2,
     "metadata": {},
     "output_type": "execute_result"
    }
   ],
   "source": [
    "function randGraphGen(n,minOutDeg=1,maxOutDeg=4)\n",
    "    adjL=Array{Array{Int}}(n)\n",
    "    for i=1:n\n",
    "        adjL[i]=filter!(e->e!=i,randperm(n)[1:rand(minOutDeg:maxOutDeg)])\n",
    "    end\n",
    "    adjL\n",
    "end"
   ]
  },
  {
   "cell_type": "code",
   "execution_count": 3,
   "metadata": {
    "collapsed": false
   },
   "outputs": [
    {
     "data": {
      "text/plain": [
       "writeGraph (generic function with 1 method)"
      ]
     },
     "execution_count": 3,
     "metadata": {},
     "output_type": "execute_result"
    }
   ],
   "source": [
    "function writeGraph(filename,adjL)\n",
    "    open(\"data/$filename\",\"w\") do io\n",
    "        for i=eachindex(adjL)\n",
    "            for j in adjL[i]\n",
    "                println(io,\"$i,$j\")\n",
    "            end\n",
    "        end\n",
    "    end\n",
    "end"
   ]
  },
  {
   "cell_type": "code",
   "execution_count": 4,
   "metadata": {
    "collapsed": false
   },
   "outputs": [],
   "source": [
    "G=randGraphGen(100)\n",
    "writeGraph(\"connectivity_challenge.csv\",G)"
   ]
  },
  {
   "cell_type": "code",
   "execution_count": 5,
   "metadata": {
    "collapsed": false
   },
   "outputs": [
    {
     "data": {
      "text/plain": [
       "237×2 Array{Int64,2}:\n",
       "   1  88\n",
       "   1  51\n",
       "   1  76\n",
       "   2  60\n",
       "   2  18\n",
       "   2  47\n",
       "   2  90\n",
       "   3  75\n",
       "   4  78\n",
       "   5  84\n",
       "   5  33\n",
       "   6  48\n",
       "   7  49\n",
       "   ⋮    \n",
       "  95  81\n",
       "  95  80\n",
       "  95  98\n",
       "  96  81\n",
       "  97  41\n",
       "  97  99\n",
       "  97   2\n",
       "  97  59\n",
       "  98  88\n",
       "  98  20\n",
       "  99  30\n",
       " 100  19"
      ]
     },
     "execution_count": 5,
     "metadata": {},
     "output_type": "execute_result"
    }
   ],
   "source": [
    "a=readcsv(\"data/connectivity_challenge.csv\",Int)"
   ]
  },
  {
   "cell_type": "markdown",
   "metadata": {},
   "source": [
    "## Challenges\n",
    "There are two challenges:\n",
    "1. Starting from node 1 find all the connected components\n",
    "2. Find the connected \n",
    "\n",
    "The output should be a file showing the list of nodes in each connected component per line. If you store you list of connected components as an array of arrays here is how you might like to print them\n",
    "```julia\n",
    "function writeCC(filename,cc)\n",
    "    open(\"data/$filename\",\"w\") do io\n",
    "        for i=eachindex(cc)\n",
    "            println(io,join(cc[i],\",\"))\n",
    "        end\n",
    "    end\n",
    "end\n",
    "```\n",
    "The file will look something like\n",
    "```csv\n",
    "1,2,4,5\n",
    "3,6\n",
    "7\n",
    "```\n",
    "First two correct submitters of *correct* code and solution will be receiving a bonus. Deadline is Thursday the 19th. "
   ]
  }
 ],
 "metadata": {
  "kernelspec": {
   "display_name": "Julia 0.6.0-rc3",
   "language": "julia",
   "name": "julia-0.6"
  },
  "language_info": {
   "file_extension": ".jl",
   "mimetype": "application/julia",
   "name": "julia",
   "version": "0.6.1"
  }
 },
 "nbformat": 4,
 "nbformat_minor": 1
}
